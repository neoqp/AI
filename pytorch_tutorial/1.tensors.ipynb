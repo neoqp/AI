{
 "cells": [
  {
   "cell_type": "code",
   "execution_count": 2,
   "metadata": {},
   "outputs": [],
   "source": [
    "import torch\n",
    "import numpy as np"
   ]
  },
  {
   "cell_type": "code",
   "execution_count": 3,
   "metadata": {},
   "outputs": [],
   "source": [
    "# create tensor from list\n",
    "data = [[1,2],[3,4]]\n",
    "x_data = torch.tensor(data)\n",
    "\n",
    "# create tensor from numpy\n",
    "np_array = np.array(data)\n",
    "x_np = torch.from_numpy(np_array)"
   ]
  },
  {
   "cell_type": "code",
   "execution_count": 4,
   "metadata": {},
   "outputs": [
    {
     "name": "stdout",
     "output_type": "stream",
     "text": [
      "Ones Tensor: \n",
      " tensor([[1, 1],\n",
      "        [1, 1]]) \n",
      "\n",
      "Random Tensor: \n",
      " tensor([[0.2173, 0.8217],\n",
      "        [0.5128, 0.4356]]) \n",
      "\n"
     ]
    }
   ],
   "source": [
    "# create one-tensor from another\n",
    "x_ones = torch.ones_like(x_data)\n",
    "print(f\"Ones Tensor: \\n {x_ones} \\n\")\n",
    "\n",
    "# create random-tensor from another\n",
    "x_rand = torch.rand_like(x_data, dtype=torch.float)\n",
    "print(f\"Random Tensor: \\n {x_rand} \\n\")"
   ]
  },
  {
   "cell_type": "code",
   "execution_count": 5,
   "metadata": {},
   "outputs": [
    {
     "name": "stdout",
     "output_type": "stream",
     "text": [
      "Random Tensor: \n",
      " tensor([[0.8888, 0.8656, 0.4499],\n",
      "        [0.3560, 0.6622, 0.4693]]) \n",
      "\n",
      "Random Tensor: \n",
      " tensor([[0.8888, 0.8656, 0.4499],\n",
      "        [0.3560, 0.6622, 0.4693]]) \n",
      "\n",
      "Zeros Tensor : \n",
      " tensor([[0., 0., 0.],\n",
      "        [0., 0., 0.]]) \n",
      "\n"
     ]
    }
   ],
   "source": [
    "# create variation tensor from shape\n",
    "shape = (2,3,)\n",
    "rand_tensor = torch.rand(shape)\n",
    "ones_tensor = torch.ones(shape)\n",
    "zeros_tensor = torch.zeros(shape)\n",
    "print(f\"Random Tensor: \\n {rand_tensor} \\n\")\n",
    "print(f\"Random Tensor: \\n {rand_tensor} \\n\")\n",
    "print(f\"Zeros Tensor : \\n {zeros_tensor} \\n\")"
   ]
  },
  {
   "cell_type": "code",
   "execution_count": 6,
   "metadata": {},
   "outputs": [
    {
     "name": "stdout",
     "output_type": "stream",
     "text": [
      "Shape of tensor: torch.Size([3, 4])\n",
      "Datatype of tensor: torch.float32\n",
      "Device tensor is stored on: cpu \n",
      "\n"
     ]
    }
   ],
   "source": [
    "# create random tensor from shape\n",
    "# tensor2 = torch.rand((3,4)) is same as tensor\n",
    "tensor = torch.rand(3,4)\n",
    "print(f\"Shape of tensor: {tensor.shape}\")\n",
    "print(f\"Datatype of tensor: {tensor.dtype}\")\n",
    "print(f\"Device tensor is stored on: {tensor.device} \\n\")"
   ]
  },
  {
   "cell_type": "code",
   "execution_count": 7,
   "metadata": {},
   "outputs": [],
   "source": [
    "# move cpu -> gpu\n",
    "if torch.cuda.is_available():\n",
    "    tensor = tensor.to(\"cuda\")"
   ]
  },
  {
   "cell_type": "code",
   "execution_count": 8,
   "metadata": {},
   "outputs": [
    {
     "name": "stdout",
     "output_type": "stream",
     "text": [
      "First row: tensor([1, 2, 5, 8])\n",
      "First column: tensor([1, 2, 3, 4])\n",
      "Last column: tensor([2, 3, 4, 5])\n",
      "tensor([[ 1,  0,  5,  8],\n",
      "        [ 2,  0,  6,  9],\n",
      "        [ 3,  0,  7, 10],\n",
      "        [ 4,  0,  8, 11]])\n"
     ]
    }
   ],
   "source": [
    "# tensor slicing\n",
    "tensor = [[1, 2, 5, 8], \n",
    "        [2, 3, 6, 9], \n",
    "        [3, 4, 7, 10],\n",
    "        [4, 5, 8, 11]]\n",
    "tensor = torch.tensor(tensor)\n",
    "print(f\"First row: {tensor[0]}\")\n",
    "print(f\"First column: {tensor[:,0]}\")\n",
    "print(f\"Last column: {tensor[..., 1]}\")\n",
    "tensor[:,1] = 0\n",
    "print(tensor)"
   ]
  },
  {
   "cell_type": "code",
   "execution_count": 9,
   "metadata": {},
   "outputs": [
    {
     "name": "stdout",
     "output_type": "stream",
     "text": [
      "tensor([[ 1,  0,  5,  8,  1,  0,  5,  8,  1,  0,  5,  8],\n",
      "        [ 2,  0,  6,  9,  2,  0,  6,  9,  2,  0,  6,  9],\n",
      "        [ 3,  0,  7, 10,  3,  0,  7, 10,  3,  0,  7, 10],\n",
      "        [ 4,  0,  8, 11,  4,  0,  8, 11,  4,  0,  8, 11]])\n"
     ]
    }
   ],
   "source": [
    "# torch concatenate\n",
    "t = torch.cat([tensor, tensor, tensor], dim=1)\n",
    "print(t)"
   ]
  },
  {
   "cell_type": "code",
   "execution_count": 10,
   "metadata": {},
   "outputs": [
    {
     "name": "stdout",
     "output_type": "stream",
     "text": [
      "tensor([[ 90, 104, 118, 132],\n",
      "        [104, 121, 138, 155],\n",
      "        [118, 138, 158, 178],\n",
      "        [132, 155, 178, 201]])\n",
      "tensor([[  1,   0,  25,  64],\n",
      "        [  4,   0,  36,  81],\n",
      "        [  9,   0,  49, 100],\n",
      "        [ 16,   0,  64, 121]])\n"
     ]
    }
   ],
   "source": [
    "# matmul vs mul\n",
    "# y1 == y2 == y3\n",
    "y1 = tensor @ tensor.T\n",
    "y2 = tensor.matmul(tensor.T)\n",
    "y3 = torch.zeros_like(y1)\n",
    "torch.matmul(tensor, tensor.T, out = y3)\n",
    "print(y1)\n",
    "\n",
    "# z1 == z2 == z3\n",
    "z1 = tensor * tensor\n",
    "z2 = tensor.mul(tensor)\n",
    "z3 = torch.zeros_like(tensor)\n",
    "torch.mul(tensor, tensor, out=z3)\n",
    "print(z1)"
   ]
  },
  {
   "cell_type": "code",
   "execution_count": 11,
   "metadata": {},
   "outputs": [
    {
     "name": "stdout",
     "output_type": "stream",
     "text": [
      "74 <class 'int'>\n"
     ]
    }
   ],
   "source": [
    "# tensor sum\n",
    "agg = tensor.sum()\n",
    "agg_item = agg.item()\n",
    "print(agg_item, type(agg_item))"
   ]
  },
  {
   "cell_type": "code",
   "execution_count": 12,
   "metadata": {},
   "outputs": [
    {
     "name": "stdout",
     "output_type": "stream",
     "text": [
      "tensor([[ 1,  0,  5,  8],\n",
      "        [ 2,  0,  6,  9],\n",
      "        [ 3,  0,  7, 10],\n",
      "        [ 4,  0,  8, 11]]) \n",
      "\n",
      "tensor([[ 6,  5, 10, 13],\n",
      "        [ 7,  5, 11, 14],\n",
      "        [ 8,  5, 12, 15],\n",
      "        [ 9,  5, 13, 16]])\n"
     ]
    }
   ],
   "source": [
    "# tensor call in-place\n",
    "print(f\"{tensor} \\n\")\n",
    "tensor.add_(5)\n",
    "print(tensor)"
   ]
  },
  {
   "cell_type": "code",
   "execution_count": 13,
   "metadata": {},
   "outputs": [
    {
     "name": "stdout",
     "output_type": "stream",
     "text": [
      "t: tensor([1., 1., 1., 1., 1.])\n",
      "n: [1. 1. 1. 1. 1.]\n"
     ]
    }
   ],
   "source": [
    "t = torch.ones(5)\n",
    "print(f\"t: {t}\")\n",
    "n = t.numpy()\n",
    "print(f\"n: {n}\")"
   ]
  },
  {
   "cell_type": "code",
   "execution_count": 14,
   "metadata": {},
   "outputs": [],
   "source": [
    "n = np.ones(5)\n",
    "t = torch.from_numpy(n)"
   ]
  },
  {
   "cell_type": "code",
   "execution_count": 15,
   "metadata": {},
   "outputs": [
    {
     "name": "stdout",
     "output_type": "stream",
     "text": [
      "t: tensor([2., 2., 2., 2., 2.], dtype=torch.float64)\n",
      "n: [2. 2. 2. 2. 2.]\n"
     ]
    }
   ],
   "source": [
    "np.add(n, 1, out=n)\n",
    "print(f\"t: {t}\")\n",
    "print(f\"n: {n}\")"
   ]
  }
 ],
 "metadata": {
  "kernelspec": {
   "display_name": "ml",
   "language": "python",
   "name": "python3"
  },
  "language_info": {
   "codemirror_mode": {
    "name": "ipython",
    "version": 3
   },
   "file_extension": ".py",
   "mimetype": "text/x-python",
   "name": "python",
   "nbconvert_exporter": "python",
   "pygments_lexer": "ipython3",
   "version": "3.10.12"
  },
  "orig_nbformat": 4
 },
 "nbformat": 4,
 "nbformat_minor": 2
}
